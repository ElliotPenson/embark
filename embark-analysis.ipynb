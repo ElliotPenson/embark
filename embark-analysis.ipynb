{
 "cells": [
  {
   "cell_type": "markdown",
   "metadata": {},
   "source": [
    "# Evolutionary Machi Koro: Analysis\n",
    "\n",
    "## Elo Rating System\n",
    "\n",
    "Elo is a rating system that describes a player's skill relative to the rest of the field.\n",
    "\n",
    "Let's define some functions to calculate Elo ratings."
   ]
  },
  {
   "cell_type": "code",
   "execution_count": 5,
   "metadata": {},
   "outputs": [],
   "source": [
    "K_FACTOR = 32\n",
    "STARTING_RATING = 1200\n",
    "\n",
    "def find_expected_score(rating, opponent_rating):\n",
    "    \"\"\"Calculate the win probability for a pairing.\"\"\"\n",
    "    return 1 / (1 + 10**((opponent_rating - rating) / 400))\n",
    "\n",
    "def update_elo(rating, opponent_rating, won):\n",
    "    \"\"\"Determine the new rating a player gets from a single result.\"\"\"\n",
    "    score = 1 if won else 0\n",
    "    return rating + K_FACTOR * (score - find_expected_score(rating, opponent_rating))"
   ]
  },
  {
   "cell_type": "markdown",
   "metadata": {},
   "source": [
    "The world's best chess player, Magnus Carlsen,  has an Elo rating of 2843. The average club player is about 1500. What's the probability that the club player beats Carlsen?"
   ]
  },
  {
   "cell_type": "code",
   "execution_count": 6,
   "metadata": {},
   "outputs": [
    {
     "data": {
      "text/plain": [
       "0.00043884319773774524"
      ]
     },
     "execution_count": 6,
     "metadata": {},
     "output_type": "execute_result"
    }
   ],
   "source": [
    "find_expected_score(1500, 2843)"
   ]
  },
  {
   "cell_type": "markdown",
   "metadata": {},
   "source": [
    "Oof. Not looking good for the club player. If (when) Magnus wins, his raiting only slightly improves."
   ]
  },
  {
   "cell_type": "code",
   "execution_count": 7,
   "metadata": {},
   "outputs": [
    {
     "data": {
      "text/plain": [
       "2843.0140429823277"
      ]
     },
     "execution_count": 7,
     "metadata": {},
     "output_type": "execute_result"
    }
   ],
   "source": [
    "update_elo(2843, 1500, True)"
   ]
  },
  {
   "cell_type": "markdown",
   "metadata": {},
   "source": [
    "The opposite result has a much larger point swing."
   ]
  },
  {
   "cell_type": "code",
   "execution_count": 8,
   "metadata": {},
   "outputs": [
    {
     "data": {
      "text/plain": [
       "1531.9859570176725"
      ]
     },
     "execution_count": 8,
     "metadata": {},
     "output_type": "execute_result"
    }
   ],
   "source": [
    "update_elo(1500, 2843, True)"
   ]
  },
  {
   "cell_type": "markdown",
   "metadata": {},
   "source": [
    "## Machi Koro Elo\n",
    "\n",
    "Now, let's apply the Elo rating system to our Machi Koro algorithm. This will help us determine how much the strength of the computer player increases."
   ]
  },
  {
   "cell_type": "code",
   "execution_count": 9,
   "metadata": {},
   "outputs": [],
   "source": [
    "from embark.machi_koro import Game\n",
    "from embark.evolution import Organism, make_random_chromosome, iterate\n",
    "from embark.parameters import GENERATION_SIZE"
   ]
  },
  {
   "cell_type": "markdown",
   "metadata": {},
   "source": [
    "To start, we'll simulate 100 generations of evolution and save the winner from each round."
   ]
  },
  {
   "cell_type": "code",
   "execution_count": 10,
   "metadata": {},
   "outputs": [],
   "source": [
    "generation = {Organism(make_random_chromosome()) for _ in range(GENERATION_SIZE)}\n",
    "winners = []\n",
    "for index in range(100):\n",
    "    generation = set(iterate(generation))\n",
    "    winners.append(max(generation, key=lambda organism: organism.wins))"
   ]
  },
  {
   "cell_type": "markdown",
   "metadata": {},
   "source": [
    "Next, let's set the default rating on every organism."
   ]
  },
  {
   "cell_type": "code",
   "execution_count": 11,
   "metadata": {},
   "outputs": [],
   "source": [
    "for winner in winners:\n",
    "    winner.rating = STARTING_RATING"
   ]
  },
  {
   "cell_type": "markdown",
   "metadata": {},
   "source": [
    "Finally, let's simulate a large number of games. After each game, we'll update the player's Elo ratings."
   ]
  },
  {
   "cell_type": "code",
   "execution_count": 12,
   "metadata": {},
   "outputs": [],
   "source": [
    "from itertools import combinations\n",
    "\n",
    "for round_number in range(1000):\n",
    "    for player1, player2 in combinations(winners, 2):\n",
    "        game = Game(player1, player2)\n",
    "        game.simulate()\n",
    "        player1.rating = update_elo(player1.rating, player2.rating, game.winner == player1)\n",
    "        player2.rating = update_elo(player2.rating, player1.rating, game.winner == player2)"
   ]
  },
  {
   "cell_type": "markdown",
   "metadata": {},
   "source": [
    "Here's a graph of our Elo scores per round:"
   ]
  },
  {
   "cell_type": "code",
   "execution_count": 13,
   "metadata": {},
   "outputs": [
    {
     "data": {
      "image/png": "[encoded data removed]",
      "text/plain": [
       "<matplotlib.figure.Figure at 0x1068b2c88>"
      ]
     },
     "metadata": {},
     "output_type": "display_data"
    }
   ],
   "source": [
    "import matplotlib.pyplot as plt\n",
    "%matplotlib inline\n",
    "\n",
    "plt.plot([winner.rating for winner in winners])\n",
    "plt.ylabel('Elo Rating')\n",
    "plt.xlabel('Generation')\n",
    "plt.show()"
   ]
  },
  {
   "cell_type": "markdown",
   "metadata": {},
   "source": [
    "Looking good! The ratings mostly increase as the genetic algorithm improves the fitness of the population.\n",
    "\n",
    "What's the probability that the winner of the hundredth generation beats the winner of the first generation?"
   ]
  },
  {
   "cell_type": "code",
   "execution_count": 15,
   "metadata": {},
   "outputs": [
    {
     "data": {
      "text/plain": [
       "0.8889647216454486"
      ]
     },
     "execution_count": 15,
     "metadata": {},
     "output_type": "execute_result"
    }
   ],
   "source": [
    "find_expected_score(winners[-1].rating, winners[0].rating)"
   ]
  }
 ],
 "metadata": {
  "kernelspec": {
   "display_name": "Python 3",
   "language": "python",
   "name": "python3"
  },
  "language_info": {
   "codemirror_mode": {
    "name": "ipython",
    "version": 3
   },
   "file_extension": ".py",
   "mimetype": "text/x-python",
   "name": "python",
   "nbconvert_exporter": "python",
   "pygments_lexer": "ipython3",
   "version": "3.6.3"
  }
 },
 "nbformat": 4,
 "nbformat_minor": 2
}
